{
 "cells": [
  {
   "cell_type": "code",
   "execution_count": 9,
   "id": "f1cc0ac8",
   "metadata": {
    "scrolled": true
   },
   "outputs": [
    {
     "name": "stdout",
     "output_type": "stream",
     "text": [
      "<class 'pandas.core.frame.DataFrame'>\n",
      "RangeIndex: 143244 entries, 0 to 143243\n",
      "Data columns (total 8 columns):\n",
      " #   Column         Non-Null Count   Dtype  \n",
      "---  ------         --------------   -----  \n",
      " 0   cloud          143244 non-null  int64  \n",
      " 1   min_cloud_hei  143244 non-null  int64  \n",
      " 2   rain           143244 non-null  int64  \n",
      " 3   temp           143244 non-null  float32\n",
      " 4   visiblity      143244 non-null  float32\n",
      " 5   wind_dire      143244 non-null  int64  \n",
      " 6   wind_spd       143244 non-null  int64  \n",
      " 7   class          143244 non-null  int64  \n",
      "dtypes: float32(2), int64(6)\n",
      "memory usage: 7.7 MB\n"
     ]
    },
    {
     "name": "stderr",
     "output_type": "stream",
     "text": [
      "C:\\Users\\Jeon\\AppData\\Local\\Temp\\ipykernel_2716\\2889179905.py:10: DtypeWarning: Columns (3,4) have mixed types. Specify dtype option on import or set low_memory=False.\n",
      "  data_csv = pd.read_csv('C:/Project/Data/data.csv', encoding='euc-kr')\n"
     ]
    }
   ],
   "source": [
    "import numpy as np\n",
    "import tensorflow as tf\n",
    "from tensorflow import keras\n",
    "import pandas as pd\n",
    "import seaborn as sns\n",
    "from pylab import rcParams\n",
    "import matplotlib.pyplot as plt\n",
    "from sklearn.model_selection import train_test_split\n",
    "from matplotlib import rc\n",
    "data_csv = pd.read_csv('C:/Project/Data/data.csv', encoding='euc-kr')\n",
    "data_csv = data_csv.apply(pd.to_numeric, errors='coerce').fillna(0)\n",
    "data_csv = data_csv.astype({'temp':'float32'})\n",
    "data_csv = data_csv.astype({'visiblity':'float32'})\n",
    "data_csv.info()"
   ]
  },
  {
   "cell_type": "code",
   "execution_count": 10,
   "id": "0fb3abbb",
   "metadata": {},
   "outputs": [
    {
     "data": {
      "text/html": [
       "<div>\n",
       "<style scoped>\n",
       "    .dataframe tbody tr th:only-of-type {\n",
       "        vertical-align: middle;\n",
       "    }\n",
       "\n",
       "    .dataframe tbody tr th {\n",
       "        vertical-align: top;\n",
       "    }\n",
       "\n",
       "    .dataframe thead th {\n",
       "        text-align: right;\n",
       "    }\n",
       "</style>\n",
       "<table border=\"1\" class=\"dataframe\">\n",
       "  <thead>\n",
       "    <tr style=\"text-align: right;\">\n",
       "      <th></th>\n",
       "      <th>cloud</th>\n",
       "      <th>min_cloud_hei</th>\n",
       "      <th>rain</th>\n",
       "      <th>temp</th>\n",
       "      <th>visiblity</th>\n",
       "      <th>wind_dire</th>\n",
       "      <th>wind_spd</th>\n",
       "      <th>class</th>\n",
       "    </tr>\n",
       "  </thead>\n",
       "  <tbody>\n",
       "    <tr>\n",
       "      <th>count</th>\n",
       "      <td>143244.000000</td>\n",
       "      <td>143244.000000</td>\n",
       "      <td>143244.000000</td>\n",
       "      <td>143244.000000</td>\n",
       "      <td>143244.000000</td>\n",
       "      <td>143244.000000</td>\n",
       "      <td>143244.000000</td>\n",
       "      <td>143244.000000</td>\n",
       "    </tr>\n",
       "    <tr>\n",
       "      <th>mean</th>\n",
       "      <td>5.429219</td>\n",
       "      <td>47.870396</td>\n",
       "      <td>0.711625</td>\n",
       "      <td>16.997086</td>\n",
       "      <td>857.024353</td>\n",
       "      <td>20.615467</td>\n",
       "      <td>10.928290</td>\n",
       "      <td>0.486582</td>\n",
       "    </tr>\n",
       "    <tr>\n",
       "      <th>std</th>\n",
       "      <td>2.653740</td>\n",
       "      <td>63.284277</td>\n",
       "      <td>3.731022</td>\n",
       "      <td>8.930216</td>\n",
       "      <td>257.020874</td>\n",
       "      <td>11.320337</td>\n",
       "      <td>7.753975</td>\n",
       "      <td>0.499822</td>\n",
       "    </tr>\n",
       "    <tr>\n",
       "      <th>min</th>\n",
       "      <td>0.000000</td>\n",
       "      <td>0.000000</td>\n",
       "      <td>0.000000</td>\n",
       "      <td>-2.900000</td>\n",
       "      <td>0.000000</td>\n",
       "      <td>0.000000</td>\n",
       "      <td>0.000000</td>\n",
       "      <td>0.000000</td>\n",
       "    </tr>\n",
       "    <tr>\n",
       "      <th>25%</th>\n",
       "      <td>4.000000</td>\n",
       "      <td>10.000000</td>\n",
       "      <td>0.000000</td>\n",
       "      <td>10.800000</td>\n",
       "      <td>800.000000</td>\n",
       "      <td>9.000000</td>\n",
       "      <td>5.000000</td>\n",
       "      <td>0.000000</td>\n",
       "    </tr>\n",
       "    <tr>\n",
       "      <th>50%</th>\n",
       "      <td>7.000000</td>\n",
       "      <td>25.000000</td>\n",
       "      <td>0.000000</td>\n",
       "      <td>18.400000</td>\n",
       "      <td>1000.000000</td>\n",
       "      <td>23.000000</td>\n",
       "      <td>8.000000</td>\n",
       "      <td>0.000000</td>\n",
       "    </tr>\n",
       "    <tr>\n",
       "      <th>75%</th>\n",
       "      <td>8.000000</td>\n",
       "      <td>40.000000</td>\n",
       "      <td>0.000000</td>\n",
       "      <td>24.400000</td>\n",
       "      <td>1000.000000</td>\n",
       "      <td>31.000000</td>\n",
       "      <td>15.000000</td>\n",
       "      <td>1.000000</td>\n",
       "    </tr>\n",
       "    <tr>\n",
       "      <th>max</th>\n",
       "      <td>8.000000</td>\n",
       "      <td>240.000000</td>\n",
       "      <td>57.000000</td>\n",
       "      <td>35.799999</td>\n",
       "      <td>1000.000000</td>\n",
       "      <td>36.000000</td>\n",
       "      <td>43.000000</td>\n",
       "      <td>1.000000</td>\n",
       "    </tr>\n",
       "  </tbody>\n",
       "</table>\n",
       "</div>"
      ],
      "text/plain": [
       "               cloud  min_cloud_hei           rain           temp  \\\n",
       "count  143244.000000  143244.000000  143244.000000  143244.000000   \n",
       "mean        5.429219      47.870396       0.711625      16.997086   \n",
       "std         2.653740      63.284277       3.731022       8.930216   \n",
       "min         0.000000       0.000000       0.000000      -2.900000   \n",
       "25%         4.000000      10.000000       0.000000      10.800000   \n",
       "50%         7.000000      25.000000       0.000000      18.400000   \n",
       "75%         8.000000      40.000000       0.000000      24.400000   \n",
       "max         8.000000     240.000000      57.000000      35.799999   \n",
       "\n",
       "           visiblity      wind_dire       wind_spd          class  \n",
       "count  143244.000000  143244.000000  143244.000000  143244.000000  \n",
       "mean      857.024353      20.615467      10.928290       0.486582  \n",
       "std       257.020874      11.320337       7.753975       0.499822  \n",
       "min         0.000000       0.000000       0.000000       0.000000  \n",
       "25%       800.000000       9.000000       5.000000       0.000000  \n",
       "50%      1000.000000      23.000000       8.000000       0.000000  \n",
       "75%      1000.000000      31.000000      15.000000       1.000000  \n",
       "max      1000.000000      36.000000      43.000000       1.000000  "
      ]
     },
     "execution_count": 10,
     "metadata": {},
     "output_type": "execute_result"
    }
   ],
   "source": [
    "data_csv.describe()"
   ]
  },
  {
   "cell_type": "code",
   "execution_count": 11,
   "id": "7bb310d5",
   "metadata": {},
   "outputs": [
    {
     "data": {
      "text/plain": [
       "(143244, 8)"
      ]
     },
     "execution_count": 11,
     "metadata": {},
     "output_type": "execute_result"
    }
   ],
   "source": [
    "data_csv.shape"
   ]
  },
  {
   "cell_type": "code",
   "execution_count": 12,
   "id": "7f505fd0",
   "metadata": {},
   "outputs": [
    {
     "data": {
      "text/plain": [
       "Index(['cloud', 'min_cloud_hei', 'rain', 'temp', 'visiblity', 'wind_dire',\n",
       "       'wind_spd', 'class'],\n",
       "      dtype='object')"
      ]
     },
     "execution_count": 12,
     "metadata": {},
     "output_type": "execute_result"
    }
   ],
   "source": [
    "data_csv.columns"
   ]
  },
  {
   "cell_type": "code",
   "execution_count": 13,
   "id": "30773aaf",
   "metadata": {
    "scrolled": true
   },
   "outputs": [
    {
     "data": {
      "text/plain": [
       "[Text(0.5, 0, 'cloud'),\n",
       " Text(1.5, 0, 'min_cloud_hei'),\n",
       " Text(2.5, 0, 'rain'),\n",
       " Text(3.5, 0, 'temp'),\n",
       " Text(4.5, 0, 'visiblity'),\n",
       " Text(5.5, 0, 'wind_dire'),\n",
       " Text(6.5, 0, 'wind_spd'),\n",
       " Text(7.5, 0, 'class')]"
      ]
     },
     "execution_count": 13,
     "metadata": {},
     "output_type": "execute_result"
    },
    {
     "data": {
      "image/png": "[encoded data removed]",
      "text/plain": [
       "<Figure size 432x288 with 2 Axes>"
      ]
     },
     "metadata": {
      "needs_background": "light"
     },
     "output_type": "display_data"
    }
   ],
   "source": [
    "heat_map = sns.heatmap(data_csv.corr(method='pearson'),annot=True, fmt='.2f',linewidths=2)\n",
    "heat_map.set_xticklabels(heat_map.get_xticklabels(), rotation=45)"
   ]
  },
  {
   "cell_type": "code",
   "execution_count": 240,
   "id": "53206f30",
   "metadata": {},
   "outputs": [],
   "source": [
    "feature_columns = []\n",
    "for header in ['cloud','min_cloud_hei','rain','temp','visiblity','wind_dire','wind_spd']:\n",
    "    feature_columns.append(tf.feature_column.numeric_column(header))"
   ]
  },
  {
   "cell_type": "code",
   "execution_count": 241,
   "id": "ab1cea1f",
   "metadata": {},
   "outputs": [],
   "source": [
    "def create_dataset(dataframe, batch_size=40):\n",
    "    dataframe = dataframe.copy()            \n",
    "    labels = dataframe.pop('class')\n",
    "    return tf.data.Dataset.from_tensor_slices((dict(dataframe),labels)).shuffle(buffer_size=len(dataframe))\\\n",
    "    .batch(batch_size)\n"
   ]
  },
  {
   "cell_type": "code",
   "execution_count": 242,
   "id": "234daab9",
   "metadata": {},
   "outputs": [],
   "source": [
    "train, test = train_test_split(data_csv, test_size=0.3)\n",
    "train_ds = create_dataset(train)\n",
    "test_ds = create_dataset(test)"
   ]
  },
  {
   "cell_type": "code",
   "execution_count": 243,
   "id": "71341ed2",
   "metadata": {},
   "outputs": [],
   "source": [
    "model = tf.keras.Sequential([\n",
    "    tf.keras.layers.DenseFeatures(feature_columns=feature_columns),\n",
    "    tf.keras.layers.Dense(units=40, activation='relu'),\n",
    "    tf.keras.layers.Dropout(rate=0.1),\n",
    "    tf.keras.layers.Dense(units=1, activation='sigmoid')\n",
    "])"
   ]
  },
  {
   "cell_type": "code",
   "execution_count": 244,
   "id": "1e81fb72",
   "metadata": {},
   "outputs": [
    {
     "name": "stdout",
     "output_type": "stream",
     "text": [
      "Epoch 1/100\n",
      "WARNING:tensorflow:Layers in a Sequential model should only have a single input tensor, but we receive a <class 'dict'> input: {'cloud': <tf.Tensor 'ExpandDims:0' shape=(None, 1) dtype=int64>, 'min_cloud_hei': <tf.Tensor 'ExpandDims_1:0' shape=(None, 1) dtype=int64>, 'rain': <tf.Tensor 'ExpandDims_2:0' shape=(None, 1) dtype=int64>, 'temp': <tf.Tensor 'ExpandDims_3:0' shape=(None, 1) dtype=float32>, 'visiblity': <tf.Tensor 'ExpandDims_4:0' shape=(None, 1) dtype=float32>, 'wind_dire': <tf.Tensor 'ExpandDims_5:0' shape=(None, 1) dtype=int64>, 'wind_spd': <tf.Tensor 'ExpandDims_6:0' shape=(None, 1) dtype=int64>}\n",
      "Consider rewriting this model with the Functional API.\n",
      "WARNING:tensorflow:Layers in a Sequential model should only have a single input tensor, but we receive a <class 'dict'> input: {'cloud': <tf.Tensor 'ExpandDims:0' shape=(None, 1) dtype=int64>, 'min_cloud_hei': <tf.Tensor 'ExpandDims_1:0' shape=(None, 1) dtype=int64>, 'rain': <tf.Tensor 'ExpandDims_2:0' shape=(None, 1) dtype=int64>, 'temp': <tf.Tensor 'ExpandDims_3:0' shape=(None, 1) dtype=float32>, 'visiblity': <tf.Tensor 'ExpandDims_4:0' shape=(None, 1) dtype=float32>, 'wind_dire': <tf.Tensor 'ExpandDims_5:0' shape=(None, 1) dtype=int64>, 'wind_spd': <tf.Tensor 'ExpandDims_6:0' shape=(None, 1) dtype=int64>}\n",
      "Consider rewriting this model with the Functional API.\n",
      "2490/2507 [============================>.] - ETA: 0s - loss: 3.3534 - accuracy: 0.6462WARNING:tensorflow:Layers in a Sequential model should only have a single input tensor, but we receive a <class 'dict'> input: {'cloud': <tf.Tensor 'ExpandDims:0' shape=(None, 1) dtype=int64>, 'min_cloud_hei': <tf.Tensor 'ExpandDims_1:0' shape=(None, 1) dtype=int64>, 'rain': <tf.Tensor 'ExpandDims_2:0' shape=(None, 1) dtype=int64>, 'temp': <tf.Tensor 'ExpandDims_3:0' shape=(None, 1) dtype=float32>, 'visiblity': <tf.Tensor 'ExpandDims_4:0' shape=(None, 1) dtype=float32>, 'wind_dire': <tf.Tensor 'ExpandDims_5:0' shape=(None, 1) dtype=int64>, 'wind_spd': <tf.Tensor 'ExpandDims_6:0' shape=(None, 1) dtype=int64>}\n",
      "Consider rewriting this model with the Functional API.\n",
      "2507/2507 [==============================] - 3s 1ms/step - loss: 3.3349 - accuracy: 0.6465 - val_loss: 0.6043 - val_accuracy: 0.6823\n",
      "Epoch 2/100\n",
      "2507/2507 [==============================] - 3s 1ms/step - loss: 0.5660 - accuracy: 0.7079 - val_loss: 0.5406 - val_accuracy: 0.7374\n",
      "Epoch 3/100\n",
      "2507/2507 [==============================] - 3s 1ms/step - loss: 0.5450 - accuracy: 0.7255 - val_loss: 0.5385 - val_accuracy: 0.7241\n",
      "Epoch 4/100\n",
      "2507/2507 [==============================] - 3s 1ms/step - loss: 0.5331 - accuracy: 0.7367 - val_loss: 0.5133 - val_accuracy: 0.7467\n",
      "Epoch 5/100\n",
      "2507/2507 [==============================] - 3s 1ms/step - loss: 0.5255 - accuracy: 0.7402 - val_loss: 0.5178 - val_accuracy: 0.7301\n",
      "Epoch 6/100\n",
      "2507/2507 [==============================] - 3s 1ms/step - loss: 0.5201 - accuracy: 0.7441 - val_loss: 0.5077 - val_accuracy: 0.7497\n",
      "Epoch 7/100\n",
      "2507/2507 [==============================] - 4s 2ms/step - loss: 0.5174 - accuracy: 0.7461 - val_loss: 0.4999 - val_accuracy: 0.7619\n",
      "Epoch 8/100\n",
      "2507/2507 [==============================] - 4s 1ms/step - loss: 0.5154 - accuracy: 0.7468 - val_loss: 0.5013 - val_accuracy: 0.7567\n",
      "Epoch 9/100\n",
      "2507/2507 [==============================] - 3s 1ms/step - loss: 0.5137 - accuracy: 0.7482 - val_loss: 0.4913 - val_accuracy: 0.7622\n",
      "Epoch 10/100\n",
      "2507/2507 [==============================] - 3s 1ms/step - loss: 0.5109 - accuracy: 0.7496 - val_loss: 0.5092 - val_accuracy: 0.7474\n",
      "Epoch 11/100\n",
      "2507/2507 [==============================] - 3s 1ms/step - loss: 0.5107 - accuracy: 0.7494 - val_loss: 0.4885 - val_accuracy: 0.7609\n",
      "Epoch 12/100\n",
      "2507/2507 [==============================] - 3s 1ms/step - loss: 0.5078 - accuracy: 0.7526 - val_loss: 0.4952 - val_accuracy: 0.7487\n",
      "Epoch 13/100\n",
      "2507/2507 [==============================] - 3s 1ms/step - loss: 0.5066 - accuracy: 0.7534 - val_loss: 0.4931 - val_accuracy: 0.7555\n",
      "Epoch 14/100\n",
      "2507/2507 [==============================] - 3s 1ms/step - loss: 0.5050 - accuracy: 0.7542 - val_loss: 0.4878 - val_accuracy: 0.7626\n",
      "Epoch 15/100\n",
      "2507/2507 [==============================] - 3s 1ms/step - loss: 0.5038 - accuracy: 0.7556 - val_loss: 0.4837 - val_accuracy: 0.7666\n",
      "Epoch 16/100\n",
      "2507/2507 [==============================] - 4s 1ms/step - loss: 0.5057 - accuracy: 0.7542 - val_loss: 0.4930 - val_accuracy: 0.7623\n",
      "Epoch 17/100\n",
      "2507/2507 [==============================] - 3s 1ms/step - loss: 0.5048 - accuracy: 0.7554 - val_loss: 0.4817 - val_accuracy: 0.7630\n",
      "Epoch 18/100\n",
      "2507/2507 [==============================] - 3s 1ms/step - loss: 0.5031 - accuracy: 0.7553 - val_loss: 0.4841 - val_accuracy: 0.7674\n",
      "Epoch 19/100\n",
      "2507/2507 [==============================] - 3s 1ms/step - loss: 0.5037 - accuracy: 0.7547 - val_loss: 0.4885 - val_accuracy: 0.7505\n",
      "Epoch 20/100\n",
      "2507/2507 [==============================] - 3s 1ms/step - loss: 0.5032 - accuracy: 0.7556 - val_loss: 0.4841 - val_accuracy: 0.7651\n",
      "Epoch 21/100\n",
      "2507/2507 [==============================] - 3s 1ms/step - loss: 0.5035 - accuracy: 0.7559 - val_loss: 0.4871 - val_accuracy: 0.7640\n",
      "Epoch 22/100\n",
      "2507/2507 [==============================] - 3s 1ms/step - loss: 0.5026 - accuracy: 0.7570 - val_loss: 0.4893 - val_accuracy: 0.7613\n",
      "Epoch 23/100\n",
      "2507/2507 [==============================] - 3s 1ms/step - loss: 0.5017 - accuracy: 0.7557 - val_loss: 0.4820 - val_accuracy: 0.7610\n",
      "Epoch 24/100\n",
      "2507/2507 [==============================] - 3s 1ms/step - loss: 0.5019 - accuracy: 0.7565 - val_loss: 0.4848 - val_accuracy: 0.7712\n",
      "Epoch 25/100\n",
      "2507/2507 [==============================] - 3s 1ms/step - loss: 0.5022 - accuracy: 0.7567 - val_loss: 0.4847 - val_accuracy: 0.7655\n",
      "Epoch 26/100\n",
      "2507/2507 [==============================] - 3s 1ms/step - loss: 0.5017 - accuracy: 0.7561 - val_loss: 0.4877 - val_accuracy: 0.7602\n",
      "Epoch 27/100\n",
      "2507/2507 [==============================] - 3s 1ms/step - loss: 0.5004 - accuracy: 0.7583 - val_loss: 0.4876 - val_accuracy: 0.7651\n",
      "Epoch 28/100\n",
      "2507/2507 [==============================] - 3s 1ms/step - loss: 0.5007 - accuracy: 0.7576 - val_loss: 0.4897 - val_accuracy: 0.7537\n",
      "Epoch 29/100\n",
      "2507/2507 [==============================] - 3s 1ms/step - loss: 0.5009 - accuracy: 0.7574 - val_loss: 0.4824 - val_accuracy: 0.7685\n",
      "Epoch 30/100\n",
      "2507/2507 [==============================] - 3s 1ms/step - loss: 0.5009 - accuracy: 0.7559 - val_loss: 0.4818 - val_accuracy: 0.7725\n",
      "Epoch 31/100\n",
      "2507/2507 [==============================] - 3s 1ms/step - loss: 0.4993 - accuracy: 0.7577 - val_loss: 0.4888 - val_accuracy: 0.7623\n",
      "Epoch 32/100\n",
      "2507/2507 [==============================] - 3s 1ms/step - loss: 0.5013 - accuracy: 0.7566 - val_loss: 0.4839 - val_accuracy: 0.7647\n",
      "Epoch 33/100\n",
      "2507/2507 [==============================] - 3s 1ms/step - loss: 0.5012 - accuracy: 0.7574 - val_loss: 0.4795 - val_accuracy: 0.7661\n",
      "Epoch 34/100\n",
      "2507/2507 [==============================] - 3s 1ms/step - loss: 0.4995 - accuracy: 0.7576 - val_loss: 0.4822 - val_accuracy: 0.7635\n",
      "Epoch 35/100\n",
      "2507/2507 [==============================] - 3s 1ms/step - loss: 0.5006 - accuracy: 0.7569 - val_loss: 0.4850 - val_accuracy: 0.7530\n",
      "Epoch 36/100\n",
      "2507/2507 [==============================] - 3s 1ms/step - loss: 0.4996 - accuracy: 0.7574 - val_loss: 0.4898 - val_accuracy: 0.7630\n",
      "Epoch 37/100\n",
      "2507/2507 [==============================] - 3s 1ms/step - loss: 0.5004 - accuracy: 0.7573 - val_loss: 0.5015 - val_accuracy: 0.7503\n",
      "Epoch 38/100\n",
      "2507/2507 [==============================] - 4s 1ms/step - loss: 0.4985 - accuracy: 0.7581 - val_loss: 0.4801 - val_accuracy: 0.7648\n",
      "Epoch 39/100\n",
      "2507/2507 [==============================] - 3s 1ms/step - loss: 0.4994 - accuracy: 0.7585 - val_loss: 0.4799 - val_accuracy: 0.7685\n",
      "Epoch 40/100\n",
      "2507/2507 [==============================] - 3s 1ms/step - loss: 0.4985 - accuracy: 0.7586 - val_loss: 0.4838 - val_accuracy: 0.7569\n",
      "Epoch 41/100\n",
      "2507/2507 [==============================] - 3s 1ms/step - loss: 0.4980 - accuracy: 0.7580 - val_loss: 0.4816 - val_accuracy: 0.7680\n",
      "Epoch 42/100\n",
      "2507/2507 [==============================] - 3s 1ms/step - loss: 0.4986 - accuracy: 0.7593 - val_loss: 0.4809 - val_accuracy: 0.7754\n"
     ]
    },
    {
     "name": "stdout",
     "output_type": "stream",
     "text": [
      "Epoch 43/100\n",
      "2507/2507 [==============================] - 3s 1ms/step - loss: 0.4997 - accuracy: 0.7574 - val_loss: 0.4955 - val_accuracy: 0.7527\n",
      "Epoch 44/100\n",
      "2507/2507 [==============================] - 4s 1ms/step - loss: 0.4976 - accuracy: 0.7582 - val_loss: 0.4851 - val_accuracy: 0.7583\n",
      "Epoch 45/100\n",
      "2507/2507 [==============================] - 3s 1ms/step - loss: 0.4996 - accuracy: 0.7579 - val_loss: 0.4910 - val_accuracy: 0.7509\n",
      "Epoch 46/100\n",
      "2507/2507 [==============================] - 3s 1ms/step - loss: 0.4980 - accuracy: 0.7583 - val_loss: 0.4814 - val_accuracy: 0.7696\n",
      "Epoch 47/100\n",
      "2507/2507 [==============================] - 3s 1ms/step - loss: 0.4973 - accuracy: 0.7597 - val_loss: 0.4755 - val_accuracy: 0.7661\n",
      "Epoch 48/100\n",
      "2507/2507 [==============================] - 4s 1ms/step - loss: 0.4972 - accuracy: 0.7602 - val_loss: 0.4791 - val_accuracy: 0.7697\n",
      "Epoch 49/100\n",
      "2507/2507 [==============================] - 4s 2ms/step - loss: 0.4989 - accuracy: 0.7571 - val_loss: 0.4835 - val_accuracy: 0.7629\n",
      "Epoch 50/100\n",
      "2507/2507 [==============================] - 5s 2ms/step - loss: 0.4988 - accuracy: 0.7580 - val_loss: 0.4890 - val_accuracy: 0.7673\n",
      "Epoch 51/100\n",
      "2507/2507 [==============================] - 5s 2ms/step - loss: 0.4978 - accuracy: 0.7600 - val_loss: 0.4787 - val_accuracy: 0.7699\n",
      "Epoch 52/100\n",
      "2507/2507 [==============================] - 5s 2ms/step - loss: 0.4971 - accuracy: 0.7585 - val_loss: 0.4800 - val_accuracy: 0.7706\n",
      "Epoch 53/100\n",
      "2507/2507 [==============================] - 3s 1ms/step - loss: 0.4970 - accuracy: 0.7583 - val_loss: 0.4785 - val_accuracy: 0.7697\n",
      "Epoch 54/100\n",
      "2507/2507 [==============================] - 3s 1ms/step - loss: 0.4973 - accuracy: 0.7601 - val_loss: 0.4839 - val_accuracy: 0.7623\n",
      "Epoch 55/100\n",
      "2507/2507 [==============================] - 3s 1ms/step - loss: 0.4989 - accuracy: 0.7588 - val_loss: 0.4828 - val_accuracy: 0.7643\n",
      "Epoch 56/100\n",
      "2507/2507 [==============================] - 3s 1ms/step - loss: 0.4971 - accuracy: 0.7592 - val_loss: 0.4837 - val_accuracy: 0.7652\n",
      "Epoch 57/100\n",
      "2507/2507 [==============================] - 3s 1ms/step - loss: 0.4972 - accuracy: 0.7595 - val_loss: 0.4798 - val_accuracy: 0.7701\n",
      "Epoch 58/100\n",
      "2507/2507 [==============================] - 4s 1ms/step - loss: 0.4968 - accuracy: 0.7598 - val_loss: 0.4777 - val_accuracy: 0.7726\n",
      "Epoch 59/100\n",
      "2507/2507 [==============================] - 3s 1ms/step - loss: 0.4978 - accuracy: 0.7597 - val_loss: 0.4850 - val_accuracy: 0.7616\n",
      "Epoch 60/100\n",
      "2507/2507 [==============================] - 3s 1ms/step - loss: 0.4969 - accuracy: 0.7594 - val_loss: 0.4805 - val_accuracy: 0.7744\n",
      "Epoch 61/100\n",
      "2507/2507 [==============================] - 3s 1ms/step - loss: 0.4967 - accuracy: 0.7592 - val_loss: 0.4792 - val_accuracy: 0.7673\n",
      "Epoch 62/100\n",
      "2507/2507 [==============================] - 3s 1ms/step - loss: 0.4972 - accuracy: 0.7603 - val_loss: 0.4801 - val_accuracy: 0.7590\n",
      "Epoch 63/100\n",
      "2507/2507 [==============================] - 3s 1ms/step - loss: 0.4959 - accuracy: 0.7595 - val_loss: 0.4839 - val_accuracy: 0.7690\n",
      "Epoch 64/100\n",
      "2507/2507 [==============================] - 3s 1ms/step - loss: 0.4957 - accuracy: 0.7610 - val_loss: 0.4765 - val_accuracy: 0.7744\n",
      "Epoch 65/100\n",
      "2507/2507 [==============================] - 3s 1ms/step - loss: 0.4956 - accuracy: 0.7603 - val_loss: 0.4788 - val_accuracy: 0.7668\n",
      "Epoch 66/100\n",
      "2507/2507 [==============================] - 3s 1ms/step - loss: 0.4980 - accuracy: 0.7595 - val_loss: 0.4843 - val_accuracy: 0.7655\n",
      "Epoch 67/100\n",
      "2507/2507 [==============================] - 4s 1ms/step - loss: 0.4958 - accuracy: 0.7597 - val_loss: 0.4768 - val_accuracy: 0.7639\n",
      "Epoch 68/100\n",
      "2507/2507 [==============================] - 4s 1ms/step - loss: 0.4962 - accuracy: 0.7596 - val_loss: 0.4769 - val_accuracy: 0.7666\n",
      "Epoch 69/100\n",
      "2507/2507 [==============================] - 3s 1ms/step - loss: 0.4974 - accuracy: 0.7598 - val_loss: 0.4820 - val_accuracy: 0.7642\n",
      "Epoch 70/100\n",
      "2507/2507 [==============================] - 3s 1ms/step - loss: 0.4967 - accuracy: 0.7602 - val_loss: 0.4797 - val_accuracy: 0.7646\n",
      "Epoch 71/100\n",
      "2507/2507 [==============================] - 3s 1ms/step - loss: 0.4957 - accuracy: 0.7609 - val_loss: 0.4817 - val_accuracy: 0.7755\n",
      "Epoch 72/100\n",
      "2507/2507 [==============================] - 3s 1ms/step - loss: 0.4963 - accuracy: 0.7603 - val_loss: 0.4819 - val_accuracy: 0.7677\n",
      "Epoch 73/100\n",
      "2507/2507 [==============================] - 4s 1ms/step - loss: 0.4954 - accuracy: 0.7607 - val_loss: 0.4798 - val_accuracy: 0.7621\n",
      "Epoch 74/100\n",
      "2507/2507 [==============================] - 3s 1ms/step - loss: 0.4948 - accuracy: 0.7614 - val_loss: 0.4767 - val_accuracy: 0.7695\n",
      "Epoch 75/100\n",
      "2507/2507 [==============================] - 3s 1ms/step - loss: 0.4970 - accuracy: 0.7600 - val_loss: 0.4776 - val_accuracy: 0.7643\n",
      "Epoch 76/100\n",
      "2507/2507 [==============================] - 3s 1ms/step - loss: 0.4954 - accuracy: 0.7608 - val_loss: 0.4808 - val_accuracy: 0.7703\n",
      "Epoch 77/100\n",
      "2507/2507 [==============================] - 3s 1ms/step - loss: 0.4960 - accuracy: 0.7609 - val_loss: 0.4783 - val_accuracy: 0.7645\n",
      "Epoch 78/100\n",
      "2507/2507 [==============================] - 3s 1ms/step - loss: 0.4971 - accuracy: 0.7598 - val_loss: 0.4775 - val_accuracy: 0.7698\n",
      "Epoch 79/100\n",
      "2507/2507 [==============================] - 4s 1ms/step - loss: 0.4952 - accuracy: 0.7607 - val_loss: 0.4771 - val_accuracy: 0.7691\n",
      "Epoch 80/100\n",
      "2507/2507 [==============================] - 3s 1ms/step - loss: 0.4953 - accuracy: 0.7612 - val_loss: 0.4832 - val_accuracy: 0.7710\n",
      "Epoch 81/100\n",
      "2507/2507 [==============================] - 3s 1ms/step - loss: 0.4944 - accuracy: 0.7613 - val_loss: 0.4743 - val_accuracy: 0.7680\n",
      "Epoch 82/100\n",
      "2507/2507 [==============================] - 3s 1ms/step - loss: 0.4951 - accuracy: 0.7624 - val_loss: 0.4763 - val_accuracy: 0.7673\n",
      "Epoch 83/100\n",
      "2507/2507 [==============================] - 3s 1ms/step - loss: 0.4959 - accuracy: 0.7608 - val_loss: 0.4797 - val_accuracy: 0.7704\n",
      "Epoch 84/100\n",
      "2507/2507 [==============================] - 3s 1ms/step - loss: 0.4948 - accuracy: 0.7616 - val_loss: 0.4732 - val_accuracy: 0.7712\n",
      "Epoch 85/100\n",
      "2507/2507 [==============================] - 3s 1ms/step - loss: 0.4950 - accuracy: 0.7607 - val_loss: 0.4772 - val_accuracy: 0.7692\n",
      "Epoch 86/100\n",
      "2507/2507 [==============================] - 4s 1ms/step - loss: 0.4943 - accuracy: 0.7617 - val_loss: 0.4753 - val_accuracy: 0.7663\n",
      "Epoch 87/100\n",
      "2507/2507 [==============================] - 3s 1ms/step - loss: 0.4943 - accuracy: 0.7616 - val_loss: 0.4820 - val_accuracy: 0.7743\n",
      "Epoch 88/100\n",
      "2507/2507 [==============================] - 3s 1ms/step - loss: 0.4957 - accuracy: 0.7615 - val_loss: 0.4791 - val_accuracy: 0.7724\n",
      "Epoch 89/100\n",
      "2507/2507 [==============================] - 4s 1ms/step - loss: 0.4951 - accuracy: 0.7611 - val_loss: 0.4801 - val_accuracy: 0.7569\n",
      "Epoch 90/100\n",
      "2507/2507 [==============================] - 3s 1ms/step - loss: 0.4949 - accuracy: 0.7618 - val_loss: 0.4815 - val_accuracy: 0.7612\n",
      "Epoch 91/100\n",
      "2507/2507 [==============================] - 4s 1ms/step - loss: 0.4961 - accuracy: 0.7612 - val_loss: 0.4769 - val_accuracy: 0.7696\n",
      "Epoch 92/100\n",
      "2507/2507 [==============================] - 3s 1ms/step - loss: 0.4947 - accuracy: 0.7610 - val_loss: 0.4788 - val_accuracy: 0.7666\n",
      "Epoch 93/100\n",
      "2507/2507 [==============================] - 3s 1ms/step - loss: 0.4948 - accuracy: 0.7622 - val_loss: 0.4892 - val_accuracy: 0.7618\n",
      "Epoch 94/100\n",
      "2507/2507 [==============================] - 3s 1ms/step - loss: 0.4943 - accuracy: 0.7620 - val_loss: 0.4778 - val_accuracy: 0.7694\n",
      "Epoch 95/100\n",
      "2507/2507 [==============================] - 3s 1ms/step - loss: 0.4942 - accuracy: 0.7624 - val_loss: 0.4761 - val_accuracy: 0.7700\n",
      "Epoch 96/100\n",
      "2507/2507 [==============================] - 3s 1ms/step - loss: 0.4935 - accuracy: 0.7620 - val_loss: 0.4786 - val_accuracy: 0.7663\n",
      "Epoch 97/100\n",
      "2507/2507 [==============================] - 4s 2ms/step - loss: 0.4945 - accuracy: 0.7629 - val_loss: 0.4796 - val_accuracy: 0.7694\n",
      "Epoch 98/100\n",
      "2507/2507 [==============================] - 5s 2ms/step - loss: 0.4945 - accuracy: 0.7624 - val_loss: 0.4789 - val_accuracy: 0.7719\n",
      "Epoch 99/100\n"
     ]
    },
    {
     "name": "stdout",
     "output_type": "stream",
     "text": [
      "2507/2507 [==============================] - 5s 2ms/step - loss: 0.4941 - accuracy: 0.7634 - val_loss: 0.4905 - val_accuracy: 0.7555\n",
      "Epoch 100/100\n",
      "2507/2507 [==============================] - 5s 2ms/step - loss: 0.4952 - accuracy: 0.7628 - val_loss: 0.4764 - val_accuracy: 0.7696\n"
     ]
    }
   ],
   "source": [
    "model.compile(optimizer='adam', loss='binary_crossentropy', metrics=[\"accuracy\"])\n",
    "history=model.fit(train_ds, validation_data=test_ds, epochs=100, use_multiprocessing=True)"
   ]
  },
  {
   "cell_type": "code",
   "execution_count": 245,
   "id": "2e827199",
   "metadata": {},
   "outputs": [
    {
     "data": {
      "image/png": "[encoded data removed]",
      "text/plain": [
       "<Figure size 432x288 with 1 Axes>"
      ]
     },
     "metadata": {
      "needs_background": "light"
     },
     "output_type": "display_data"
    }
   ],
   "source": [
    "plt.plot(history.history['accuracy'])\n",
    "plt.plot(history.history['val_accuracy'])\n",
    "plt.title('model accuracy')\n",
    "plt.ylabel('accuracy')\n",
    "plt.xlabel('epoch')\n",
    "plt.ylim((0,1))\n",
    "plt.legend(['train','test'],loc='upper left');"
   ]
  },
  {
   "cell_type": "code",
   "execution_count": 246,
   "id": "6f143cf8",
   "metadata": {},
   "outputs": [
    {
     "data": {
      "image/png": "[encoded data removed]",
      "text/plain": [
       "<Figure size 432x288 with 1 Axes>"
      ]
     },
     "metadata": {
      "needs_background": "light"
     },
     "output_type": "display_data"
    }
   ],
   "source": [
    "plt.plot(history.history['loss'])\n",
    "plt.plot(history.history['val_loss'])\n",
    "plt.title('model loss')\n",
    "plt.ylabel('loss')\n",
    "plt.xlabel('epoch')\n",
    "plt.ylim((0,1))\n",
    "plt.legend(['train','test'],loc='upper left');"
   ]
  },
  {
   "cell_type": "code",
   "execution_count": null,
   "id": "9cd3c46d",
   "metadata": {},
   "outputs": [],
   "source": []
  }
 ],
 "metadata": {
  "kernelspec": {
   "display_name": "Python 3 (ipykernel)",
   "language": "python",
   "name": "python3"
  },
  "language_info": {
   "codemirror_mode": {
    "name": "ipython",
    "version": 3
   },
   "file_extension": ".py",
   "mimetype": "text/x-python",
   "name": "python",
   "nbconvert_exporter": "python",
   "pygments_lexer": "ipython3",
   "version": "3.8.13"
  }
 },
 "nbformat": 4,
 "nbformat_minor": 5
}
