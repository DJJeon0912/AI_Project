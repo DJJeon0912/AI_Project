{
 "cells": [
  {
   "cell_type": "code",
   "execution_count": 3,
   "id": "729a135e",
   "metadata": {},
   "outputs": [
    {
     "name": "stderr",
     "output_type": "stream",
     "text": [
      "C:\\Users\\Jeon\\AppData\\Local\\Temp\\ipykernel_8336\\933317516.py:10: DtypeWarning: Columns (3,4) have mixed types. Specify dtype option on import or set low_memory=False.\n",
      "  data_csv = pd.read_csv('C:/Project/Data/data.csv', encoding='euc-kr')\n"
     ]
    }
   ],
   "source": [
    "from sklearn.svm import SVC\n",
    "from sklearn.preprocessing import StandardScaler\n",
    "import numpy as np\n",
    "import tensorflow as tf\n",
    "from tensorflow import keras\n",
    "import pandas as pd\n",
    "import seaborn as sns\n",
    "from pylab import rcParams\n",
    "import matplotlib.pyplot as plt\n",
    "from sklearn.model_selection import train_test_split\n",
    "from matplotlib import rc\n",
    "data_csv = pd.read_csv('C:/Project/Data/data.csv', encoding='euc-kr')\n",
    "data_csv = data_csv.apply(pd.to_numeric, errors='coerce').fillna(0)\n",
    "data_csv = data_csv.astype({'temp':'float32'})\n",
    "data_csv = data_csv.astype({'visiblity':'float32'})"
   ]
  },
  {
   "cell_type": "code",
   "execution_count": 109,
   "id": "c7d07249",
   "metadata": {},
   "outputs": [],
   "source": [
    "feature_columns = []\n",
    "for header in ['cloud','min_cloud_hei','rain','temp','visiblity','wind_dire','wind_spd']:\n",
    "    feature_columns.append(tf.feature_column.numeric_column(header))"
   ]
  },
  {
   "cell_type": "code",
   "execution_count": 110,
   "id": "a4d81f96",
   "metadata": {},
   "outputs": [],
   "source": [
    "def create_dataset(dataframe, batch_size=80):\n",
    "    dataframe = dataframe.copy()            \n",
    "    labels = dataframe.pop('class')\n",
    "    return tf.data.Dataset.from_tensor_slices((dict(dataframe),labels)).shuffle(buffer_size=len(dataframe))\\\n",
    "    .batch(batch_size)"
   ]
  },
  {
   "cell_type": "code",
   "execution_count": 111,
   "id": "edea1545",
   "metadata": {},
   "outputs": [],
   "source": [
    "train, test = train_test_split(data_csv, test_size=0.3)\n",
    "train_ds = create_dataset(train)\n",
    "test_ds = create_dataset(test)"
   ]
  },
  {
   "cell_type": "code",
   "execution_count": 112,
   "id": "ce0e010b",
   "metadata": {},
   "outputs": [],
   "source": [
    "model = tf.keras.Sequential([\n",
    "    tf.keras.layers.DenseFeatures(feature_columns=feature_columns),\n",
    "    tf.keras.layers.Dense(units=60, activation='relu'),\n",
    "    tf.keras.layers.Dropout(rate=0.2),\n",
    "    tf.keras.layers.Dense(units=1, activation='sigmoid')\n",
    "])"
   ]
  },
  {
   "cell_type": "code",
   "execution_count": 113,
   "id": "5fe2c094",
   "metadata": {},
   "outputs": [
    {
     "name": "stdout",
     "output_type": "stream",
     "text": [
      "Epoch 1/100\n",
      "WARNING:tensorflow:Layers in a Sequential model should only have a single input tensor, but we receive a <class 'dict'> input: {'cloud': <tf.Tensor 'ExpandDims:0' shape=(None, 1) dtype=int64>, 'min_cloud_hei': <tf.Tensor 'ExpandDims_1:0' shape=(None, 1) dtype=int64>, 'rain': <tf.Tensor 'ExpandDims_2:0' shape=(None, 1) dtype=int64>, 'temp': <tf.Tensor 'ExpandDims_3:0' shape=(None, 1) dtype=float32>, 'visiblity': <tf.Tensor 'ExpandDims_4:0' shape=(None, 1) dtype=float32>, 'wind_dire': <tf.Tensor 'ExpandDims_5:0' shape=(None, 1) dtype=int64>, 'wind_spd': <tf.Tensor 'ExpandDims_6:0' shape=(None, 1) dtype=int64>}\n",
      "Consider rewriting this model with the Functional API.\n",
      "WARNING:tensorflow:Layers in a Sequential model should only have a single input tensor, but we receive a <class 'dict'> input: {'cloud': <tf.Tensor 'ExpandDims:0' shape=(None, 1) dtype=int64>, 'min_cloud_hei': <tf.Tensor 'ExpandDims_1:0' shape=(None, 1) dtype=int64>, 'rain': <tf.Tensor 'ExpandDims_2:0' shape=(None, 1) dtype=int64>, 'temp': <tf.Tensor 'ExpandDims_3:0' shape=(None, 1) dtype=float32>, 'visiblity': <tf.Tensor 'ExpandDims_4:0' shape=(None, 1) dtype=float32>, 'wind_dire': <tf.Tensor 'ExpandDims_5:0' shape=(None, 1) dtype=int64>, 'wind_spd': <tf.Tensor 'ExpandDims_6:0' shape=(None, 1) dtype=int64>}\n",
      "Consider rewriting this model with the Functional API.\n",
      "1244/1254 [============================>.] - ETA: 0s - loss: 5.2561 - accuracy: 0.6149WARNING:tensorflow:Layers in a Sequential model should only have a single input tensor, but we receive a <class 'dict'> input: {'cloud': <tf.Tensor 'ExpandDims:0' shape=(None, 1) dtype=int64>, 'min_cloud_hei': <tf.Tensor 'ExpandDims_1:0' shape=(None, 1) dtype=int64>, 'rain': <tf.Tensor 'ExpandDims_2:0' shape=(None, 1) dtype=int64>, 'temp': <tf.Tensor 'ExpandDims_3:0' shape=(None, 1) dtype=float32>, 'visiblity': <tf.Tensor 'ExpandDims_4:0' shape=(None, 1) dtype=float32>, 'wind_dire': <tf.Tensor 'ExpandDims_5:0' shape=(None, 1) dtype=int64>, 'wind_spd': <tf.Tensor 'ExpandDims_6:0' shape=(None, 1) dtype=int64>}\n",
      "Consider rewriting this model with the Functional API.\n",
      "1254/1254 [==============================] - 2s 2ms/step - loss: 5.2212 - accuracy: 0.6153 - val_loss: 0.5692 - val_accuracy: 0.6918\n",
      "Epoch 2/100\n",
      "1254/1254 [==============================] - 2s 2ms/step - loss: 0.5774 - accuracy: 0.6927 - val_loss: 0.6459 - val_accuracy: 0.5965\n",
      "Epoch 3/100\n",
      "1254/1254 [==============================] - 2s 2ms/step - loss: 0.5594 - accuracy: 0.7076 - val_loss: 0.5568 - val_accuracy: 0.6874\n",
      "Epoch 4/100\n",
      "1254/1254 [==============================] - 2s 2ms/step - loss: 0.5562 - accuracy: 0.7086 - val_loss: 0.5328 - val_accuracy: 0.7229\n",
      "Epoch 5/100\n",
      "1254/1254 [==============================] - 2s 2ms/step - loss: 0.5456 - accuracy: 0.7221 - val_loss: 0.5237 - val_accuracy: 0.7352\n",
      "Epoch 6/100\n",
      "1254/1254 [==============================] - 2s 2ms/step - loss: 0.5382 - accuracy: 0.7321 - val_loss: 0.5198 - val_accuracy: 0.7483\n",
      "Epoch 7/100\n",
      "1254/1254 [==============================] - 2s 2ms/step - loss: 0.5338 - accuracy: 0.7344 - val_loss: 0.5260 - val_accuracy: 0.7517\n",
      "Epoch 8/100\n",
      "1254/1254 [==============================] - 2s 2ms/step - loss: 0.5322 - accuracy: 0.7384 - val_loss: 0.5186 - val_accuracy: 0.7378\n",
      "Epoch 9/100\n",
      "1254/1254 [==============================] - 2s 2ms/step - loss: 0.5318 - accuracy: 0.7387 - val_loss: 0.5168 - val_accuracy: 0.7486\n",
      "Epoch 10/100\n",
      "1254/1254 [==============================] - 2s 2ms/step - loss: 0.5295 - accuracy: 0.7400 - val_loss: 0.5183 - val_accuracy: 0.7406\n",
      "Epoch 11/100\n",
      "1254/1254 [==============================] - 2s 2ms/step - loss: 0.5268 - accuracy: 0.7415 - val_loss: 0.5053 - val_accuracy: 0.7572\n",
      "Epoch 12/100\n",
      "1254/1254 [==============================] - 2s 2ms/step - loss: 0.5256 - accuracy: 0.7419 - val_loss: 0.5079 - val_accuracy: 0.7514\n",
      "Epoch 13/100\n",
      "1254/1254 [==============================] - 2s 2ms/step - loss: 0.5233 - accuracy: 0.7437 - val_loss: 0.5073 - val_accuracy: 0.7567\n",
      "Epoch 14/100\n",
      "1254/1254 [==============================] - 2s 2ms/step - loss: 0.5214 - accuracy: 0.7450 - val_loss: 0.5012 - val_accuracy: 0.7596\n",
      "Epoch 15/100\n",
      "1254/1254 [==============================] - 2s 2ms/step - loss: 0.5200 - accuracy: 0.7458 - val_loss: 0.4972 - val_accuracy: 0.7565\n",
      "Epoch 16/100\n",
      "1254/1254 [==============================] - 2s 2ms/step - loss: 0.5186 - accuracy: 0.7456 - val_loss: 0.5024 - val_accuracy: 0.7552\n",
      "Epoch 17/100\n",
      "1254/1254 [==============================] - 2s 2ms/step - loss: 0.5172 - accuracy: 0.7471 - val_loss: 0.4961 - val_accuracy: 0.7607\n",
      "Epoch 18/100\n",
      "1254/1254 [==============================] - 2s 2ms/step - loss: 0.5174 - accuracy: 0.7464 - val_loss: 0.5010 - val_accuracy: 0.7599\n",
      "Epoch 19/100\n",
      "1254/1254 [==============================] - 2s 2ms/step - loss: 0.5164 - accuracy: 0.7482 - val_loss: 0.4904 - val_accuracy: 0.7649\n",
      "Epoch 20/100\n",
      "1254/1254 [==============================] - 2s 2ms/step - loss: 0.5146 - accuracy: 0.7491 - val_loss: 0.5011 - val_accuracy: 0.7565\n",
      "Epoch 21/100\n",
      "1254/1254 [==============================] - 2s 2ms/step - loss: 0.5133 - accuracy: 0.7491 - val_loss: 0.4969 - val_accuracy: 0.7542\n",
      "Epoch 22/100\n",
      "1254/1254 [==============================] - 2s 2ms/step - loss: 0.5156 - accuracy: 0.7492 - val_loss: 0.4998 - val_accuracy: 0.7499\n",
      "Epoch 23/100\n",
      "1254/1254 [==============================] - 2s 2ms/step - loss: 0.5147 - accuracy: 0.7491 - val_loss: 0.4952 - val_accuracy: 0.7569\n",
      "Epoch 24/100\n",
      "1254/1254 [==============================] - 2s 2ms/step - loss: 0.5141 - accuracy: 0.7496 - val_loss: 0.4969 - val_accuracy: 0.7551\n",
      "Epoch 25/100\n",
      "1254/1254 [==============================] - 2s 2ms/step - loss: 0.5138 - accuracy: 0.7500 - val_loss: 0.4946 - val_accuracy: 0.7651\n",
      "Epoch 26/100\n",
      "1254/1254 [==============================] - 2s 2ms/step - loss: 0.5114 - accuracy: 0.7506 - val_loss: 0.4951 - val_accuracy: 0.7667\n",
      "Epoch 27/100\n",
      "1254/1254 [==============================] - 2s 2ms/step - loss: 0.5115 - accuracy: 0.7510 - val_loss: 0.4859 - val_accuracy: 0.7719\n",
      "Epoch 28/100\n",
      "1254/1254 [==============================] - 2s 2ms/step - loss: 0.5119 - accuracy: 0.7515 - val_loss: 0.4913 - val_accuracy: 0.7647\n",
      "Epoch 29/100\n",
      "1254/1254 [==============================] - 2s 2ms/step - loss: 0.5111 - accuracy: 0.7514 - val_loss: 0.4844 - val_accuracy: 0.7708\n",
      "Epoch 30/100\n",
      "1254/1254 [==============================] - 2s 2ms/step - loss: 0.5109 - accuracy: 0.7511 - val_loss: 0.4875 - val_accuracy: 0.7621\n",
      "Epoch 31/100\n",
      "1254/1254 [==============================] - 2s 2ms/step - loss: 0.5100 - accuracy: 0.7511 - val_loss: 0.4897 - val_accuracy: 0.7679\n",
      "Epoch 32/100\n",
      "1254/1254 [==============================] - 2s 2ms/step - loss: 0.5090 - accuracy: 0.7519 - val_loss: 0.4868 - val_accuracy: 0.7674\n",
      "Epoch 33/100\n",
      "1254/1254 [==============================] - 2s 2ms/step - loss: 0.5089 - accuracy: 0.7518 - val_loss: 0.4916 - val_accuracy: 0.7610\n",
      "Epoch 34/100\n",
      "1254/1254 [==============================] - 2s 2ms/step - loss: 0.5091 - accuracy: 0.7513 - val_loss: 0.4899 - val_accuracy: 0.7753\n",
      "Epoch 35/100\n",
      "1254/1254 [==============================] - 2s 2ms/step - loss: 0.5079 - accuracy: 0.7539 - val_loss: 0.4852 - val_accuracy: 0.7650\n",
      "Epoch 36/100\n",
      "1254/1254 [==============================] - 2s 2ms/step - loss: 0.5076 - accuracy: 0.7533 - val_loss: 0.4831 - val_accuracy: 0.7651\n",
      "Epoch 37/100\n",
      "1254/1254 [==============================] - 2s 2ms/step - loss: 0.5081 - accuracy: 0.7529 - val_loss: 0.4844 - val_accuracy: 0.7726\n",
      "Epoch 38/100\n",
      "1254/1254 [==============================] - 2s 2ms/step - loss: 0.5071 - accuracy: 0.7526 - val_loss: 0.4884 - val_accuracy: 0.7681\n",
      "Epoch 39/100\n",
      "1254/1254 [==============================] - 2s 2ms/step - loss: 0.5063 - accuracy: 0.7540 - val_loss: 0.4834 - val_accuracy: 0.7689\n",
      "Epoch 40/100\n",
      "1254/1254 [==============================] - 2s 2ms/step - loss: 0.5058 - accuracy: 0.7547 - val_loss: 0.4836 - val_accuracy: 0.7669\n",
      "Epoch 41/100\n",
      "1254/1254 [==============================] - 2s 2ms/step - loss: 0.5032 - accuracy: 0.7557 - val_loss: 0.4804 - val_accuracy: 0.7673\n",
      "Epoch 42/100\n",
      "1254/1254 [==============================] - 2s 2ms/step - loss: 0.5040 - accuracy: 0.7555 - val_loss: 0.4825 - val_accuracy: 0.7660\n"
     ]
    },
    {
     "name": "stdout",
     "output_type": "stream",
     "text": [
      "Epoch 43/100\n",
      "1254/1254 [==============================] - 2s 2ms/step - loss: 0.5030 - accuracy: 0.7558 - val_loss: 0.4810 - val_accuracy: 0.7704\n",
      "Epoch 44/100\n",
      "1254/1254 [==============================] - 2s 2ms/step - loss: 0.5030 - accuracy: 0.7559 - val_loss: 0.4775 - val_accuracy: 0.7707\n",
      "Epoch 45/100\n",
      "1254/1254 [==============================] - 2s 2ms/step - loss: 0.5013 - accuracy: 0.7568 - val_loss: 0.4775 - val_accuracy: 0.7740\n",
      "Epoch 46/100\n",
      "1254/1254 [==============================] - 2s 1ms/step - loss: 0.5018 - accuracy: 0.7570 - val_loss: 0.4717 - val_accuracy: 0.7696\n",
      "Epoch 47/100\n",
      "1254/1254 [==============================] - 2s 2ms/step - loss: 0.5020 - accuracy: 0.7567 - val_loss: 0.4773 - val_accuracy: 0.7683\n",
      "Epoch 48/100\n",
      "1254/1254 [==============================] - 2s 1ms/step - loss: 0.4998 - accuracy: 0.7592 - val_loss: 0.4721 - val_accuracy: 0.7771\n",
      "Epoch 49/100\n",
      "1254/1254 [==============================] - 2s 2ms/step - loss: 0.5009 - accuracy: 0.7564 - val_loss: 0.4785 - val_accuracy: 0.7716\n",
      "Epoch 50/100\n",
      "1254/1254 [==============================] - 2s 2ms/step - loss: 0.5001 - accuracy: 0.7585 - val_loss: 0.4737 - val_accuracy: 0.7780\n",
      "Epoch 51/100\n",
      "1254/1254 [==============================] - 2s 2ms/step - loss: 0.4993 - accuracy: 0.7576 - val_loss: 0.4741 - val_accuracy: 0.7725\n",
      "Epoch 52/100\n",
      "1254/1254 [==============================] - 2s 2ms/step - loss: 0.5001 - accuracy: 0.7581 - val_loss: 0.4734 - val_accuracy: 0.7761\n",
      "Epoch 53/100\n",
      "1254/1254 [==============================] - 2s 1ms/step - loss: 0.5002 - accuracy: 0.7572 - val_loss: 0.4719 - val_accuracy: 0.7736\n",
      "Epoch 54/100\n",
      "1254/1254 [==============================] - 2s 2ms/step - loss: 0.5014 - accuracy: 0.7571 - val_loss: 0.4838 - val_accuracy: 0.7705\n",
      "Epoch 55/100\n",
      "1254/1254 [==============================] - 2s 2ms/step - loss: 0.4993 - accuracy: 0.7577 - val_loss: 0.4758 - val_accuracy: 0.7691\n",
      "Epoch 56/100\n",
      "1254/1254 [==============================] - 2s 2ms/step - loss: 0.4984 - accuracy: 0.7591 - val_loss: 0.4738 - val_accuracy: 0.7769\n",
      "Epoch 57/100\n",
      "1254/1254 [==============================] - 2s 2ms/step - loss: 0.4998 - accuracy: 0.7575 - val_loss: 0.4698 - val_accuracy: 0.7786\n",
      "Epoch 58/100\n",
      "1254/1254 [==============================] - 2s 2ms/step - loss: 0.5006 - accuracy: 0.7570 - val_loss: 0.4788 - val_accuracy: 0.7767\n",
      "Epoch 59/100\n",
      "1254/1254 [==============================] - 2s 2ms/step - loss: 0.4983 - accuracy: 0.7581 - val_loss: 0.4795 - val_accuracy: 0.7702\n",
      "Epoch 60/100\n",
      "1254/1254 [==============================] - 2s 1ms/step - loss: 0.4980 - accuracy: 0.7587 - val_loss: 0.4746 - val_accuracy: 0.7780\n",
      "Epoch 61/100\n",
      "1254/1254 [==============================] - 3s 2ms/step - loss: 0.4988 - accuracy: 0.7586 - val_loss: 0.4730 - val_accuracy: 0.7724\n",
      "Epoch 62/100\n",
      "1254/1254 [==============================] - 2s 1ms/step - loss: 0.4990 - accuracy: 0.7574 - val_loss: 0.4731 - val_accuracy: 0.7729\n",
      "Epoch 63/100\n",
      "1254/1254 [==============================] - 2s 2ms/step - loss: 0.4980 - accuracy: 0.7579 - val_loss: 0.4724 - val_accuracy: 0.7745\n",
      "Epoch 64/100\n",
      "1254/1254 [==============================] - 2s 2ms/step - loss: 0.4988 - accuracy: 0.7590 - val_loss: 0.4745 - val_accuracy: 0.7770\n",
      "Epoch 65/100\n",
      "1254/1254 [==============================] - 2s 2ms/step - loss: 0.4988 - accuracy: 0.7587 - val_loss: 0.4758 - val_accuracy: 0.7753\n",
      "Epoch 66/100\n",
      "1254/1254 [==============================] - 2s 2ms/step - loss: 0.4991 - accuracy: 0.7582 - val_loss: 0.4721 - val_accuracy: 0.7773\n",
      "Epoch 67/100\n",
      "1254/1254 [==============================] - 2s 2ms/step - loss: 0.4962 - accuracy: 0.7592 - val_loss: 0.4706 - val_accuracy: 0.7747\n",
      "Epoch 68/100\n",
      "1254/1254 [==============================] - 2s 2ms/step - loss: 0.4973 - accuracy: 0.7582 - val_loss: 0.4736 - val_accuracy: 0.7730\n",
      "Epoch 69/100\n",
      "1254/1254 [==============================] - 2s 2ms/step - loss: 0.4983 - accuracy: 0.7585 - val_loss: 0.4789 - val_accuracy: 0.7736\n",
      "Epoch 70/100\n",
      "1254/1254 [==============================] - 2s 2ms/step - loss: 0.4977 - accuracy: 0.7585 - val_loss: 0.4707 - val_accuracy: 0.7693\n",
      "Epoch 71/100\n",
      "1254/1254 [==============================] - 2s 2ms/step - loss: 0.4974 - accuracy: 0.7589 - val_loss: 0.4751 - val_accuracy: 0.7730\n",
      "Epoch 72/100\n",
      "1254/1254 [==============================] - 2s 2ms/step - loss: 0.4970 - accuracy: 0.7591 - val_loss: 0.4768 - val_accuracy: 0.7737\n",
      "Epoch 73/100\n",
      "1254/1254 [==============================] - 2s 1ms/step - loss: 0.4972 - accuracy: 0.7591 - val_loss: 0.4725 - val_accuracy: 0.7733\n",
      "Epoch 74/100\n",
      "1254/1254 [==============================] - 2s 2ms/step - loss: 0.4974 - accuracy: 0.7574 - val_loss: 0.4753 - val_accuracy: 0.7704\n",
      "Epoch 75/100\n",
      "1254/1254 [==============================] - 2s 1ms/step - loss: 0.4977 - accuracy: 0.7582 - val_loss: 0.4742 - val_accuracy: 0.7756\n",
      "Epoch 76/100\n",
      "1254/1254 [==============================] - 2s 2ms/step - loss: 0.4971 - accuracy: 0.7593 - val_loss: 0.4720 - val_accuracy: 0.7784\n",
      "Epoch 77/100\n",
      "1254/1254 [==============================] - 2s 2ms/step - loss: 0.4971 - accuracy: 0.7591 - val_loss: 0.4757 - val_accuracy: 0.7673\n",
      "Epoch 78/100\n",
      "1254/1254 [==============================] - 2s 2ms/step - loss: 0.4965 - accuracy: 0.7585 - val_loss: 0.4760 - val_accuracy: 0.7704\n",
      "Epoch 79/100\n",
      "1254/1254 [==============================] - 2s 1ms/step - loss: 0.4989 - accuracy: 0.7587 - val_loss: 0.4740 - val_accuracy: 0.7791\n",
      "Epoch 80/100\n",
      "1254/1254 [==============================] - 2s 2ms/step - loss: 0.4964 - accuracy: 0.7593 - val_loss: 0.4690 - val_accuracy: 0.7761\n",
      "Epoch 81/100\n",
      "1254/1254 [==============================] - 2s 2ms/step - loss: 0.4947 - accuracy: 0.7607 - val_loss: 0.4723 - val_accuracy: 0.7749\n",
      "Epoch 82/100\n",
      "1254/1254 [==============================] - 2s 2ms/step - loss: 0.4962 - accuracy: 0.7587 - val_loss: 0.4744 - val_accuracy: 0.7687\n",
      "Epoch 83/100\n",
      "1254/1254 [==============================] - 2s 2ms/step - loss: 0.4972 - accuracy: 0.7584 - val_loss: 0.4835 - val_accuracy: 0.7704\n",
      "Epoch 84/100\n",
      "1254/1254 [==============================] - 2s 2ms/step - loss: 0.4956 - accuracy: 0.7604 - val_loss: 0.4758 - val_accuracy: 0.7715\n",
      "Epoch 85/100\n",
      "1254/1254 [==============================] - 2s 1ms/step - loss: 0.4963 - accuracy: 0.7586 - val_loss: 0.4705 - val_accuracy: 0.7712\n",
      "Epoch 86/100\n",
      "1254/1254 [==============================] - 2s 1ms/step - loss: 0.4964 - accuracy: 0.7585 - val_loss: 0.4735 - val_accuracy: 0.7702\n",
      "Epoch 87/100\n",
      "1254/1254 [==============================] - 2s 2ms/step - loss: 0.4953 - accuracy: 0.7613 - val_loss: 0.4696 - val_accuracy: 0.7713\n",
      "Epoch 88/100\n",
      "1254/1254 [==============================] - 2s 2ms/step - loss: 0.4971 - accuracy: 0.7600 - val_loss: 0.4715 - val_accuracy: 0.7757\n",
      "Epoch 89/100\n",
      "1254/1254 [==============================] - 2s 2ms/step - loss: 0.4975 - accuracy: 0.7584 - val_loss: 0.4689 - val_accuracy: 0.7764\n",
      "Epoch 90/100\n",
      "1254/1254 [==============================] - 2s 1ms/step - loss: 0.4960 - accuracy: 0.7593 - val_loss: 0.4728 - val_accuracy: 0.7726\n",
      "Epoch 91/100\n",
      "1254/1254 [==============================] - 2s 2ms/step - loss: 0.4953 - accuracy: 0.7599 - val_loss: 0.4722 - val_accuracy: 0.7704\n",
      "Epoch 92/100\n",
      "1254/1254 [==============================] - 2s 2ms/step - loss: 0.4954 - accuracy: 0.7598 - val_loss: 0.4695 - val_accuracy: 0.7740\n",
      "Epoch 93/100\n",
      "1254/1254 [==============================] - 2s 2ms/step - loss: 0.4950 - accuracy: 0.7588 - val_loss: 0.4744 - val_accuracy: 0.7715\n",
      "Epoch 94/100\n",
      "1254/1254 [==============================] - 2s 1ms/step - loss: 0.4959 - accuracy: 0.7599 - val_loss: 0.4728 - val_accuracy: 0.7683\n",
      "Epoch 95/100\n",
      "1254/1254 [==============================] - 2s 2ms/step - loss: 0.4933 - accuracy: 0.7608 - val_loss: 0.4710 - val_accuracy: 0.7806\n",
      "Epoch 96/100\n",
      "1254/1254 [==============================] - 3s 2ms/step - loss: 0.4950 - accuracy: 0.7602 - val_loss: 0.4717 - val_accuracy: 0.7751\n",
      "Epoch 97/100\n",
      "1254/1254 [==============================] - 2s 2ms/step - loss: 0.4945 - accuracy: 0.7597 - val_loss: 0.4684 - val_accuracy: 0.7691\n",
      "Epoch 98/100\n",
      "1254/1254 [==============================] - 2s 2ms/step - loss: 0.4962 - accuracy: 0.7575 - val_loss: 0.4662 - val_accuracy: 0.7729\n",
      "Epoch 99/100\n",
      "1254/1254 [==============================] - 2s 1ms/step - loss: 0.4945 - accuracy: 0.7596 - val_loss: 0.4672 - val_accuracy: 0.7763\n",
      "Epoch 100/100\n",
      "1254/1254 [==============================] - 2s 2ms/step - loss: 0.4949 - accuracy: 0.7595 - val_loss: 0.4676 - val_accuracy: 0.7729\n"
     ]
    }
   ],
   "source": [
    "model.compile(optimizer='adam', loss='binary_crossentropy', metrics=[\"accuracy\"])\n",
    "history=model.fit(train_ds, validation_data=test_ds, epochs=100, use_multiprocessing=True)"
   ]
  },
  {
   "cell_type": "code",
   "execution_count": 114,
   "id": "d2b17209",
   "metadata": {},
   "outputs": [
    {
     "data": {
      "image/png": "[encoded data removed]",
      "text/plain": [
       "<Figure size 432x288 with 1 Axes>"
      ]
     },
     "metadata": {
      "needs_background": "light"
     },
     "output_type": "display_data"
    }
   ],
   "source": [
    "plt.plot(history.history['accuracy'])\n",
    "plt.plot(history.history['val_accuracy'])\n",
    "plt.title('model accuracy')\n",
    "plt.ylabel('accuracy')\n",
    "plt.xlabel('epoch')\n",
    "plt.ylim((0,1))\n",
    "plt.legend(['train','test'],loc='upper left');"
   ]
  },
  {
   "cell_type": "code",
   "execution_count": 115,
   "id": "bbae4ecc",
   "metadata": {},
   "outputs": [
    {
     "data": {
      "image/png": "[encoded data removed]",
      "text/plain": [
       "<Figure size 432x288 with 1 Axes>"
      ]
     },
     "metadata": {
      "needs_background": "light"
     },
     "output_type": "display_data"
    }
   ],
   "source": [
    "plt.plot(history.history['loss'])\n",
    "plt.plot(history.history['val_loss'])\n",
    "plt.title('model loss')\n",
    "plt.ylabel('loss')\n",
    "plt.xlabel('epoch')\n",
    "plt.ylim((0,1))\n",
    "plt.legend(['train','test'],loc='upper left');"
   ]
  },
  {
   "cell_type": "code",
   "execution_count": null,
   "id": "acb00868",
   "metadata": {},
   "outputs": [],
   "source": []
  }
 ],
 "metadata": {
  "kernelspec": {
   "display_name": "Python 3 (ipykernel)",
   "language": "python",
   "name": "python3"
  },
  "language_info": {
   "codemirror_mode": {
    "name": "ipython",
    "version": 3
   },
   "file_extension": ".py",
   "mimetype": "text/x-python",
   "name": "python",
   "nbconvert_exporter": "python",
   "pygments_lexer": "ipython3",
   "version": "3.8.13"
  }
 },
 "nbformat": 4,
 "nbformat_minor": 5
}
